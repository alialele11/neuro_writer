{
  "nbformat": 4,
  "nbformat_minor": 0,
  "metadata": {
    "colab": {
      "name": "Untitled4.ipynb",
      "provenance": []
    },
    "kernelspec": {
      "name": "python3",
      "display_name": "Python 3"
    },
    "language_info": {
      "name": "python"
    }
  },
  "cells": [
    {
      "cell_type": "markdown",
      "metadata": {
        "id": "aPJB298B8lGx"
      },
      "source": [
        "Before start we should to copy model to your drive from https://drive.google.com/drive/folders/17uvNjAezqwgfWefrHijpx__zznt4kDzY?usp=sharing"
      ]
    },
    {
      "cell_type": "code",
      "metadata": {
        "id": "mWacgO-m1lCp"
      },
      "source": [
        "!pip install torch==1.4.0\n",
        "!pip3 install transformers==3.5.0"
      ],
      "execution_count": null,
      "outputs": []
    },
    {
      "cell_type": "code",
      "metadata": {
        "id": "aqqbuN1Y5fsq"
      },
      "source": [
        "!git clone  https://github.com/alialele11/neuro_writer"
      ],
      "execution_count": null,
      "outputs": []
    },
    {
      "cell_type": "code",
      "metadata": {
        "id": "fSob1I5J5lgO"
      },
      "source": [
        "import numpy as np\n",
        "import torch\n",
        "from transformers import GPT2LMHeadModel, GPT2Tokenizer"
      ],
      "execution_count": null,
      "outputs": []
    },
    {
      "cell_type": "code",
      "metadata": {
        "id": "PZdlMl965yQT"
      },
      "source": [
        "tok = GPT2Tokenizer.from_pretrained(\"/content/drive/MyDrive/model/essays/checkpoint-5500\")\n",
        "model = GPT2LMHeadModel.from_pretrained(\"/content/drive/MyDrive/model/essays/checkpoint-5500\")"
      ],
      "execution_count": null,
      "outputs": []
    },
    {
      "cell_type": "code",
      "metadata": {
        "id": "9ADzSmFy6CPs"
      },
      "source": [
        "text = \"Enter here begin of text\"\n",
        "inpt = tok.encode(text, return_tensors=\"pt\")"
      ],
      "execution_count": null,
      "outputs": []
    },
    {
      "cell_type": "markdown",
      "metadata": {
        "id": "oJeHLJ4g6iby"
      },
      "source": [
        "You can change parameters"
      ]
    },
    {
      "cell_type": "code",
      "metadata": {
        "id": "tnj7z2Sd6LQU"
      },
      "source": [
        "out = model.generate(inpt, max_length=200, repetition_penalty=3.0, do_sample=True, top_k=10, top_p=0.95, temperature=10.0)"
      ],
      "execution_count": null,
      "outputs": []
    },
    {
      "cell_type": "code",
      "metadata": {
        "id": "NRJ95vlJ6h2p"
      },
      "source": [
        "tok.decode(out[0])"
      ],
      "execution_count": null,
      "outputs": []
    }
  ]
}